{
 "cells": [
  {
   "cell_type": "markdown",
   "metadata": {},
   "source": [
    "# AutoMLしたらDeepAR+の精度がよかったので、提出してみる\n",
    "\n",
    "227.9716"
   ]
  },
  {
   "cell_type": "markdown",
   "metadata": {},
   "source": [
    "# 関連時系列を使ったバージョン\n",
    "fill指定して、relatedの影響でDeepAR+使われない現象を阻止"
   ]
  },
  {
   "cell_type": "markdown",
   "metadata": {},
   "source": [
    "# Kaggle提出用ファイルを作成する"
   ]
  },
  {
   "cell_type": "code",
   "execution_count": 4,
   "metadata": {},
   "outputs": [],
   "source": [
    "import boto3\n",
    "import botocore"
   ]
  },
  {
   "cell_type": "code",
   "execution_count": 6,
   "metadata": {},
   "outputs": [
    {
     "data": {
      "text/plain": [
       "'1.20.23'"
      ]
     },
     "execution_count": 6,
     "metadata": {},
     "output_type": "execute_result"
    }
   ],
   "source": [
    "boto3.__version__"
   ]
  },
  {
   "cell_type": "code",
   "execution_count": 7,
   "metadata": {},
   "outputs": [
    {
     "data": {
      "text/plain": [
       "'1.22.5'"
      ]
     },
     "execution_count": 7,
     "metadata": {},
     "output_type": "execute_result"
    }
   ],
   "source": [
    "botocore.__version__"
   ]
  },
  {
   "cell_type": "code",
   "execution_count": 8,
   "metadata": {},
   "outputs": [],
   "source": [
    "import pandas as pd"
   ]
  },
  {
   "cell_type": "code",
   "execution_count": 19,
   "metadata": {},
   "outputs": [
    {
     "name": "stdout",
     "output_type": "stream",
     "text": [
      "0\n",
      "1\n",
      "2\n",
      "3\n",
      "4\n",
      "5\n",
      "6\n",
      "7\n",
      "8\n",
      "9\n",
      "10\n",
      "11\n"
     ]
    }
   ],
   "source": [
    "df = pd.DataFrame()\n",
    "for i in range(12):\n",
    "    print(i)\n",
    "    df_tmp = pd.read_csv(f's3://work-kaggle-ohio/store-sales-time-series-forecasting/export_forecast_tgt_rlt_withfill_deepar_horizon16/export_forecast_tgt_rlt_withfill_deepar_horizon16_2022-01-21T06-14-47Z_part{i}.csv')\n",
    "    df = pd.concat([df, df_tmp])"
   ]
  },
  {
   "cell_type": "code",
   "execution_count": 20,
   "metadata": {},
   "outputs": [],
   "source": [
    "df['family'] = df['item_id'].str.upper()\n",
    "df['date'] = df['date'].str[0:10]\n",
    "df['sales'] = df['p50']"
   ]
  },
  {
   "cell_type": "code",
   "execution_count": 24,
   "metadata": {},
   "outputs": [
    {
     "data": {
      "text/html": [
       "<div>\n",
       "<style scoped>\n",
       "    .dataframe tbody tr th:only-of-type {\n",
       "        vertical-align: middle;\n",
       "    }\n",
       "\n",
       "    .dataframe tbody tr th {\n",
       "        vertical-align: top;\n",
       "    }\n",
       "\n",
       "    .dataframe thead th {\n",
       "        text-align: right;\n",
       "    }\n",
       "</style>\n",
       "<table border=\"1\" class=\"dataframe\">\n",
       "  <thead>\n",
       "    <tr style=\"text-align: right;\">\n",
       "      <th></th>\n",
       "      <th>item_id</th>\n",
       "      <th>date</th>\n",
       "      <th>store_nbr</th>\n",
       "      <th>p10</th>\n",
       "      <th>p50</th>\n",
       "      <th>p90</th>\n",
       "      <th>family</th>\n",
       "      <th>sales</th>\n",
       "    </tr>\n",
       "  </thead>\n",
       "  <tbody>\n",
       "    <tr>\n",
       "      <th>0</th>\n",
       "      <td>bread/bakery</td>\n",
       "      <td>2017-08-16</td>\n",
       "      <td>2</td>\n",
       "      <td>505.901611</td>\n",
       "      <td>615.465637</td>\n",
       "      <td>705.354675</td>\n",
       "      <td>BREAD/BAKERY</td>\n",
       "      <td>615.465637</td>\n",
       "    </tr>\n",
       "    <tr>\n",
       "      <th>1</th>\n",
       "      <td>bread/bakery</td>\n",
       "      <td>2017-08-17</td>\n",
       "      <td>2</td>\n",
       "      <td>454.759583</td>\n",
       "      <td>534.511292</td>\n",
       "      <td>609.049072</td>\n",
       "      <td>BREAD/BAKERY</td>\n",
       "      <td>534.511292</td>\n",
       "    </tr>\n",
       "    <tr>\n",
       "      <th>2</th>\n",
       "      <td>bread/bakery</td>\n",
       "      <td>2017-08-18</td>\n",
       "      <td>2</td>\n",
       "      <td>517.063477</td>\n",
       "      <td>600.103271</td>\n",
       "      <td>715.006592</td>\n",
       "      <td>BREAD/BAKERY</td>\n",
       "      <td>600.103271</td>\n",
       "    </tr>\n",
       "    <tr>\n",
       "      <th>3</th>\n",
       "      <td>bread/bakery</td>\n",
       "      <td>2017-08-19</td>\n",
       "      <td>2</td>\n",
       "      <td>605.101196</td>\n",
       "      <td>705.632568</td>\n",
       "      <td>832.273010</td>\n",
       "      <td>BREAD/BAKERY</td>\n",
       "      <td>705.632568</td>\n",
       "    </tr>\n",
       "    <tr>\n",
       "      <th>4</th>\n",
       "      <td>bread/bakery</td>\n",
       "      <td>2017-08-20</td>\n",
       "      <td>2</td>\n",
       "      <td>641.724670</td>\n",
       "      <td>746.697388</td>\n",
       "      <td>871.435669</td>\n",
       "      <td>BREAD/BAKERY</td>\n",
       "      <td>746.697388</td>\n",
       "    </tr>\n",
       "    <tr>\n",
       "      <th>...</th>\n",
       "      <td>...</td>\n",
       "      <td>...</td>\n",
       "      <td>...</td>\n",
       "      <td>...</td>\n",
       "      <td>...</td>\n",
       "      <td>...</td>\n",
       "      <td>...</td>\n",
       "      <td>...</td>\n",
       "    </tr>\n",
       "    <tr>\n",
       "      <th>1611</th>\n",
       "      <td>deli</td>\n",
       "      <td>2017-08-27</td>\n",
       "      <td>43</td>\n",
       "      <td>331.415649</td>\n",
       "      <td>390.645630</td>\n",
       "      <td>453.357025</td>\n",
       "      <td>DELI</td>\n",
       "      <td>390.645630</td>\n",
       "    </tr>\n",
       "    <tr>\n",
       "      <th>1612</th>\n",
       "      <td>deli</td>\n",
       "      <td>2017-08-28</td>\n",
       "      <td>43</td>\n",
       "      <td>230.515945</td>\n",
       "      <td>286.936218</td>\n",
       "      <td>334.553253</td>\n",
       "      <td>DELI</td>\n",
       "      <td>286.936218</td>\n",
       "    </tr>\n",
       "    <tr>\n",
       "      <th>1613</th>\n",
       "      <td>deli</td>\n",
       "      <td>2017-08-29</td>\n",
       "      <td>43</td>\n",
       "      <td>239.176071</td>\n",
       "      <td>284.213470</td>\n",
       "      <td>324.737762</td>\n",
       "      <td>DELI</td>\n",
       "      <td>284.213470</td>\n",
       "    </tr>\n",
       "    <tr>\n",
       "      <th>1614</th>\n",
       "      <td>deli</td>\n",
       "      <td>2017-08-30</td>\n",
       "      <td>43</td>\n",
       "      <td>208.534836</td>\n",
       "      <td>255.581146</td>\n",
       "      <td>314.635315</td>\n",
       "      <td>DELI</td>\n",
       "      <td>255.581146</td>\n",
       "    </tr>\n",
       "    <tr>\n",
       "      <th>1615</th>\n",
       "      <td>deli</td>\n",
       "      <td>2017-08-31</td>\n",
       "      <td>43</td>\n",
       "      <td>193.325607</td>\n",
       "      <td>232.107086</td>\n",
       "      <td>279.472107</td>\n",
       "      <td>DELI</td>\n",
       "      <td>232.107086</td>\n",
       "    </tr>\n",
       "  </tbody>\n",
       "</table>\n",
       "<p>28512 rows × 8 columns</p>\n",
       "</div>"
      ],
      "text/plain": [
       "           item_id        date  store_nbr         p10         p50         p90  \\\n",
       "0     bread/bakery  2017-08-16          2  505.901611  615.465637  705.354675   \n",
       "1     bread/bakery  2017-08-17          2  454.759583  534.511292  609.049072   \n",
       "2     bread/bakery  2017-08-18          2  517.063477  600.103271  715.006592   \n",
       "3     bread/bakery  2017-08-19          2  605.101196  705.632568  832.273010   \n",
       "4     bread/bakery  2017-08-20          2  641.724670  746.697388  871.435669   \n",
       "...            ...         ...        ...         ...         ...         ...   \n",
       "1611          deli  2017-08-27         43  331.415649  390.645630  453.357025   \n",
       "1612          deli  2017-08-28         43  230.515945  286.936218  334.553253   \n",
       "1613          deli  2017-08-29         43  239.176071  284.213470  324.737762   \n",
       "1614          deli  2017-08-30         43  208.534836  255.581146  314.635315   \n",
       "1615          deli  2017-08-31         43  193.325607  232.107086  279.472107   \n",
       "\n",
       "            family       sales  \n",
       "0     BREAD/BAKERY  615.465637  \n",
       "1     BREAD/BAKERY  534.511292  \n",
       "2     BREAD/BAKERY  600.103271  \n",
       "3     BREAD/BAKERY  705.632568  \n",
       "4     BREAD/BAKERY  746.697388  \n",
       "...            ...         ...  \n",
       "1611          DELI  390.645630  \n",
       "1612          DELI  286.936218  \n",
       "1613          DELI  284.213470  \n",
       "1614          DELI  255.581146  \n",
       "1615          DELI  232.107086  \n",
       "\n",
       "[28512 rows x 8 columns]"
      ]
     },
     "execution_count": 24,
     "metadata": {},
     "output_type": "execute_result"
    }
   ],
   "source": [
    "df"
   ]
  },
  {
   "cell_type": "code",
   "execution_count": 25,
   "metadata": {},
   "outputs": [],
   "source": [
    "df_test = pd.read_csv('../input/test.csv')"
   ]
  },
  {
   "cell_type": "code",
   "execution_count": 26,
   "metadata": {},
   "outputs": [
    {
     "data": {
      "text/html": [
       "<div>\n",
       "<style scoped>\n",
       "    .dataframe tbody tr th:only-of-type {\n",
       "        vertical-align: middle;\n",
       "    }\n",
       "\n",
       "    .dataframe tbody tr th {\n",
       "        vertical-align: top;\n",
       "    }\n",
       "\n",
       "    .dataframe thead th {\n",
       "        text-align: right;\n",
       "    }\n",
       "</style>\n",
       "<table border=\"1\" class=\"dataframe\">\n",
       "  <thead>\n",
       "    <tr style=\"text-align: right;\">\n",
       "      <th></th>\n",
       "      <th>id</th>\n",
       "      <th>date</th>\n",
       "      <th>store_nbr</th>\n",
       "      <th>family</th>\n",
       "      <th>onpromotion</th>\n",
       "    </tr>\n",
       "  </thead>\n",
       "  <tbody>\n",
       "    <tr>\n",
       "      <th>0</th>\n",
       "      <td>3000888</td>\n",
       "      <td>2017-08-16</td>\n",
       "      <td>1</td>\n",
       "      <td>AUTOMOTIVE</td>\n",
       "      <td>0</td>\n",
       "    </tr>\n",
       "    <tr>\n",
       "      <th>1</th>\n",
       "      <td>3000889</td>\n",
       "      <td>2017-08-16</td>\n",
       "      <td>1</td>\n",
       "      <td>BABY CARE</td>\n",
       "      <td>0</td>\n",
       "    </tr>\n",
       "    <tr>\n",
       "      <th>2</th>\n",
       "      <td>3000890</td>\n",
       "      <td>2017-08-16</td>\n",
       "      <td>1</td>\n",
       "      <td>BEAUTY</td>\n",
       "      <td>2</td>\n",
       "    </tr>\n",
       "    <tr>\n",
       "      <th>3</th>\n",
       "      <td>3000891</td>\n",
       "      <td>2017-08-16</td>\n",
       "      <td>1</td>\n",
       "      <td>BEVERAGES</td>\n",
       "      <td>20</td>\n",
       "    </tr>\n",
       "    <tr>\n",
       "      <th>4</th>\n",
       "      <td>3000892</td>\n",
       "      <td>2017-08-16</td>\n",
       "      <td>1</td>\n",
       "      <td>BOOKS</td>\n",
       "      <td>0</td>\n",
       "    </tr>\n",
       "    <tr>\n",
       "      <th>...</th>\n",
       "      <td>...</td>\n",
       "      <td>...</td>\n",
       "      <td>...</td>\n",
       "      <td>...</td>\n",
       "      <td>...</td>\n",
       "    </tr>\n",
       "    <tr>\n",
       "      <th>28507</th>\n",
       "      <td>3029395</td>\n",
       "      <td>2017-08-31</td>\n",
       "      <td>9</td>\n",
       "      <td>POULTRY</td>\n",
       "      <td>1</td>\n",
       "    </tr>\n",
       "    <tr>\n",
       "      <th>28508</th>\n",
       "      <td>3029396</td>\n",
       "      <td>2017-08-31</td>\n",
       "      <td>9</td>\n",
       "      <td>PREPARED FOODS</td>\n",
       "      <td>0</td>\n",
       "    </tr>\n",
       "    <tr>\n",
       "      <th>28509</th>\n",
       "      <td>3029397</td>\n",
       "      <td>2017-08-31</td>\n",
       "      <td>9</td>\n",
       "      <td>PRODUCE</td>\n",
       "      <td>1</td>\n",
       "    </tr>\n",
       "    <tr>\n",
       "      <th>28510</th>\n",
       "      <td>3029398</td>\n",
       "      <td>2017-08-31</td>\n",
       "      <td>9</td>\n",
       "      <td>SCHOOL AND OFFICE SUPPLIES</td>\n",
       "      <td>9</td>\n",
       "    </tr>\n",
       "    <tr>\n",
       "      <th>28511</th>\n",
       "      <td>3029399</td>\n",
       "      <td>2017-08-31</td>\n",
       "      <td>9</td>\n",
       "      <td>SEAFOOD</td>\n",
       "      <td>0</td>\n",
       "    </tr>\n",
       "  </tbody>\n",
       "</table>\n",
       "<p>28512 rows × 5 columns</p>\n",
       "</div>"
      ],
      "text/plain": [
       "            id        date  store_nbr                      family  onpromotion\n",
       "0      3000888  2017-08-16          1                  AUTOMOTIVE            0\n",
       "1      3000889  2017-08-16          1                   BABY CARE            0\n",
       "2      3000890  2017-08-16          1                      BEAUTY            2\n",
       "3      3000891  2017-08-16          1                   BEVERAGES           20\n",
       "4      3000892  2017-08-16          1                       BOOKS            0\n",
       "...        ...         ...        ...                         ...          ...\n",
       "28507  3029395  2017-08-31          9                     POULTRY            1\n",
       "28508  3029396  2017-08-31          9              PREPARED FOODS            0\n",
       "28509  3029397  2017-08-31          9                     PRODUCE            1\n",
       "28510  3029398  2017-08-31          9  SCHOOL AND OFFICE SUPPLIES            9\n",
       "28511  3029399  2017-08-31          9                     SEAFOOD            0\n",
       "\n",
       "[28512 rows x 5 columns]"
      ]
     },
     "execution_count": 26,
     "metadata": {},
     "output_type": "execute_result"
    }
   ],
   "source": [
    "df_test"
   ]
  },
  {
   "cell_type": "code",
   "execution_count": null,
   "metadata": {},
   "outputs": [],
   "source": []
  },
  {
   "cell_type": "code",
   "execution_count": 27,
   "metadata": {},
   "outputs": [],
   "source": [
    "df_mrg = pd.merge(df_test, df, how='left', on=['date', 'store_nbr', 'family'])"
   ]
  },
  {
   "cell_type": "code",
   "execution_count": 28,
   "metadata": {},
   "outputs": [],
   "source": [
    "df_mrg[['id' ,'sales']].to_csv('../submit/sub_forecast_tgt_rlt_withfill_deepar_horizon16.csv', index=False)"
   ]
  },
  {
   "cell_type": "code",
   "execution_count": null,
   "metadata": {},
   "outputs": [],
   "source": []
  }
 ],
 "metadata": {
  "instance_type": "ml.t3.medium",
  "kernelspec": {
   "display_name": "Python 3 (Data Science)",
   "language": "python",
   "name": "python3__SAGEMAKER_INTERNAL__arn:aws:sagemaker:us-east-2:429704687514:image/datascience-1.0"
  },
  "language_info": {
   "codemirror_mode": {
    "name": "ipython",
    "version": 3
   },
   "file_extension": ".py",
   "mimetype": "text/x-python",
   "name": "python",
   "nbconvert_exporter": "python",
   "pygments_lexer": "ipython3",
   "version": "3.7.10"
  }
 },
 "nbformat": 4,
 "nbformat_minor": 4
}

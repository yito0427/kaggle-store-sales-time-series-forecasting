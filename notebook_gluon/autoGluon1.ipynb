{
 "cells": [
  {
   "cell_type": "markdown",
   "id": "b3cd3ea1",
   "metadata": {},
   "source": [
    "# AutoGluonでの回帰モデルとして解く\n",
    "\n",
    "結局、時系列予測は回帰問題として解いた方が汎用性がありそう\n",
    "\n",
    "その場合、特徴量生成が重要になる。\n",
    "\n",
    "* (回帰) kaggleでの特徴量で、AutoGluonでとく\n",
    "* (時系列)データそのままで、GluonTSでとく。特徴量の生成が大変だから。\n",
    "* (時系列)データそのままで、AmazonForecastでとく\n",
    "* (回帰) tsfreshの特徴量で、AutoGluonでとく（Kaggle特徴量との比較）\n",
    "\n",
    "実業務では、「どの特徴量が重要なのか」を探っていくことが重要"
   ]
  },
  {
   "cell_type": "markdown",
   "id": "c0b0c286",
   "metadata": {},
   "source": [
    "## AutoGluonのインストール\n",
    "\n",
    "https://auto.gluon.ai/stable/tutorials/tabular_prediction/tabular-quickstart.html\n",
    "\n",
    "SageMakerノートブックインスタンスにはインストールできない？ -> numbaとllvmliteに対して以下を実行"
   ]
  },
  {
   "cell_type": "code",
   "execution_count": null,
   "id": "dc14cee3",
   "metadata": {},
   "outputs": [],
   "source": [
    "!pip install -U numba\n",
    "!pip install llvmlite --ignore-installed"
   ]
  },
  {
   "cell_type": "code",
   "execution_count": null,
   "id": "0cf4c941",
   "metadata": {},
   "outputs": [],
   "source": [
    "!pip install autogluon"
   ]
  },
  {
   "cell_type": "code",
   "execution_count": null,
   "id": "c2b67408",
   "metadata": {},
   "outputs": [],
   "source": [
    "from autogluon.tabular import TabularDataset, TabularPredictor"
   ]
  },
  {
   "cell_type": "code",
   "execution_count": null,
   "id": "638b7862",
   "metadata": {},
   "outputs": [],
   "source": [
    "train_data = TabularDataset('https://autogluon.s3.amazonaws.com/datasets/Inc/train.csv')\n",
    "subsample_size = 500  # subsample subset of data for faster demo, try setting this to much larger values\n",
    "train_data = train_data.sample(n=subsample_size, random_state=0)\n",
    "train_data.head()"
   ]
  },
  {
   "cell_type": "code",
   "execution_count": null,
   "id": "bc00c25e",
   "metadata": {},
   "outputs": [],
   "source": [
    "label = 'class'\n",
    "print(\"Summary of class variable: \\n\", train_data[label].describe())"
   ]
  },
  {
   "cell_type": "code",
   "execution_count": null,
   "id": "f42fb100",
   "metadata": {},
   "outputs": [],
   "source": [
    "save_path = 'agModels-predictClass'  # specifies folder to store trained models\n",
    "predictor = TabularPredictor(label=label, path=save_path).fit(train_data)"
   ]
  },
  {
   "cell_type": "code",
   "execution_count": null,
   "id": "fc73da59",
   "metadata": {},
   "outputs": [],
   "source": [
    "test_data = TabularDataset('https://autogluon.s3.amazonaws.com/datasets/Inc/test.csv')\n",
    "y_test = test_data[label]  # values to predict\n",
    "test_data_nolab = test_data.drop(columns=[label])  # delete label column to prove we're not cheating\n",
    "test_data_nolab.head()"
   ]
  },
  {
   "cell_type": "code",
   "execution_count": null,
   "id": "8d3bb640",
   "metadata": {},
   "outputs": [],
   "source": [
    "predictor = TabularPredictor.load(save_path)  # unnecessary, just demonstrates how to load previously-trained predictor from file\n",
    "\n",
    "y_pred = predictor.predict(test_data_nolab)\n",
    "print(\"Predictions:  \\n\", y_pred)\n",
    "perf = predictor.evaluate_predictions(y_true=y_test, y_pred=y_pred, auxiliary_metrics=True)"
   ]
  },
  {
   "cell_type": "code",
   "execution_count": null,
   "id": "770c69f4",
   "metadata": {},
   "outputs": [],
   "source": [
    "predictor.leaderboard(test_data, silent=True)"
   ]
  },
  {
   "cell_type": "code",
   "execution_count": null,
   "id": "106f8034",
   "metadata": {},
   "outputs": [],
   "source": [
    "from autogluon.tabular import TabularPredictor\n",
    "predictor = TabularPredictor(label=<variable-name>).fit(train_data=<file-name>)"
   ]
  },
  {
   "cell_type": "code",
   "execution_count": null,
   "id": "5c47cbfd",
   "metadata": {},
   "outputs": [],
   "source": [
    "pred_probs = predictor.predict_proba(test_data_nolab)\n",
    "pred_probs.head(5)"
   ]
  },
  {
   "cell_type": "code",
   "execution_count": null,
   "id": "35d133cd",
   "metadata": {},
   "outputs": [],
   "source": [
    "results = predictor.fit_summary(show_plot=True)"
   ]
  },
  {
   "cell_type": "code",
   "execution_count": null,
   "id": "f4aa5e84",
   "metadata": {},
   "outputs": [],
   "source": [
    "print(\"AutoGluon infers problem type is: \", predictor.problem_type)\n",
    "print(\"AutoGluon identified the following types of features:\")\n",
    "print(predictor.feature_metadata)"
   ]
  },
  {
   "cell_type": "code",
   "execution_count": null,
   "id": "a5ecc31a",
   "metadata": {},
   "outputs": [],
   "source": []
  }
 ],
 "metadata": {
  "kernelspec": {
   "display_name": "conda_python3",
   "language": "python",
   "name": "conda_python3"
  },
  "language_info": {
   "codemirror_mode": {
    "name": "ipython",
    "version": 3
   },
   "file_extension": ".py",
   "mimetype": "text/x-python",
   "name": "python",
   "nbconvert_exporter": "python",
   "pygments_lexer": "ipython3",
   "version": "3.8.12"
  }
 },
 "nbformat": 4,
 "nbformat_minor": 5
}
